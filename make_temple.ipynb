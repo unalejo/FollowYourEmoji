{
 "cells": [
  {
   "cell_type": "code",
   "execution_count": 9,
   "id": "0939da8a-784f-43ba-b6a9-c6f70c7bf0bb",
   "metadata": {},
   "outputs": [],
   "source": [
    "import os\n",
    "import cv2\n",
    "import csv\n",
    "import json\n",
    "import math\n",
    "import random\n",
    "import decord\n",
    "import numpy as np\n",
    "import imageio\n",
    "import matplotlib\n",
    "import matplotlib.pyplot as plt\n",
    "from glob import glob\n",
    "from PIL import Image, ImageSequence\n",
    "from io import BytesIO\n",
    "from IPython.display import Video\n",
    "from IPython.display import display, Image as IPyImage\n",
    "import torchvision.transforms as T\n",
    "\n",
    "import sys\n",
    "from media_pipe.mp_utils import LMKExtractor\n",
    "from media_pipe.draw_util import FaceMeshVisualizer\n",
    "from media_pipe.pose_util import project_points_with_trans, matrix_to_euler_and_translation, euler_and_translation_to_matrix\n",
    "\n",
    "\n",
    "ROOT = 'root_path'\n",
    "\n",
    "def show_img(img, title=''):\n",
    "    plt.figure(figsize=(10, 10))\n",
    "    plt.title(title)\n",
    "    plt.imshow(img)\n",
    "    plt.show()\n",
    "    \n",
    "def read_video(video_path):\n",
    "    vr = decord.VideoReader(video_path)\n",
    "    frames = vr.get_batch(list(range(len(vr))))\n",
    "    return frames\n",
    "    \n",
    "def display_gif(image_array, duration=100):\n",
    "    # Convert NumPy array to list of PIL images\n",
    "    images = [Image.fromarray(frame) for frame in image_array]\n",
    "\n",
    "    # Save images as GIF and read into memory buffer\n",
    "    buffer = BytesIO()\n",
    "    images[0].save(buffer, format='GIF', save_all=True, append_images=images[1:], duration=duration, loop=0)\n",
    "\n",
    "    # Display GIF in Jupyter Notebook\n",
    "    buffer.seek(0)\n",
    "    display(IPyImage(data=buffer.getvalue()))"
   ]
  },
  {
   "cell_type": "code",
   "execution_count": 4,
   "id": "940dca3f-6820-4c03-8c0e-7fb585ba3ac3",
   "metadata": {},
   "outputs": [],
   "source": [
    "lmk_extractor = LMKExtractor()\n",
    "vis = FaceMeshVisualizer(forehead_edge=False)"
   ]
  },
  {
   "cell_type": "code",
   "execution_count": 11,
   "id": "2f199844-f458-40a1-8704-e2eff2d21fff",
   "metadata": {},
   "outputs": [
    {
     "name": "stderr",
     "output_type": "stream",
     "text": [
      "d:\\GitHub\\FollowYourEmoji\\followyouremoji_env\\Lib\\site-packages\\google\\protobuf\\symbol_database.py:55: UserWarning: SymbolDatabase.GetPrototype() is deprecated. Please use message_factory.GetMessageClass() instead. SymbolDatabase.GetPrototype() will be removed soon.\n",
      "  warnings.warn('SymbolDatabase.GetPrototype() is deprecated. Please '\n"
     ]
    },
    {
     "data": {
      "image/png": "[encoded data removed]",
      "text/plain": [
       "<Figure size 1000x1000 with 1 Axes>"
      ]
     },
     "metadata": {},
     "output_type": "display_data"
    }
   ],
   "source": [
    "# Test if landmarks can be detected\n",
    "\n",
    "# Set the path to the reference image\n",
    "ref_image_path = f'2024-09-10_09-11-07_6467.png'\n",
    "\n",
    "# Open the image and convert it to RGB\n",
    "ref_image_pil = Image.open(ref_image_path).convert(\"RGB\")\n",
    "\n",
    "# Convert the PIL image to a numpy array and change color space from RGB to BGR\n",
    "ref_image_np = cv2.cvtColor(np.array(ref_image_pil), cv2.COLOR_RGB2BGR)\n",
    "\n",
    "# Uncomment the following line if you want to display the image\n",
    "# show_img(ref_image_pil)\n",
    "\n",
    "# Extract landmarks from the image\n",
    "face_result = lmk_extractor(ref_image_np)\n",
    "\n",
    "# Ensure that a face was detected in the image\n",
    "assert face_result is not None, \"Cannot detect a face in the reference image.\"\n",
    "\n",
    "# Add width and height information to the face_result dictionary\n",
    "face_result['width'] = ref_image_np.shape[1]\n",
    "face_result['height'] = ref_image_np.shape[0]\n",
    "\n",
    "# Save the face landmark results\n",
    "save_path = ref_image_path.replace('.png', '_mppose.npy')\n",
    "np.save(save_path, face_result)\n",
    "\n",
    "# Extract landmarks and convert to float32\n",
    "lmks = face_result['lmks'].astype(np.float32)\n",
    "\n",
    "# Draw landmarks on the image\n",
    "ref_pose = vis.draw_landmarks((ref_image_np.shape[1], ref_image_np.shape[0]), lmks, normed=True)\n",
    "\n",
    "# Display the image with landmarks\n",
    "show_img(ref_pose)"
   ]
  },
  {
   "cell_type": "markdown",
   "id": "731aa87d-a42f-47f1-9d4d-6f3023d22320",
   "metadata": {},
   "source": [
    "## Template Extraction"
   ]
  },
  {
   "cell_type": "code",
   "execution_count": 13,
   "id": "08ef94e9-3a38-4924-a9be-21755df80169",
   "metadata": {},
   "outputs": [
    {
     "name": "stderr",
     "output_type": "stream",
     "text": [
      "  0%|          | 0/9223372036854775807 [00:00<?, ?it/s]d:\\GitHub\\FollowYourEmoji\\followyouremoji_env\\Lib\\site-packages\\google\\protobuf\\symbol_database.py:55: UserWarning: SymbolDatabase.GetPrototype() is deprecated. Please use message_factory.GetMessageClass() instead. SymbolDatabase.GetPrototype() will be removed soon.\n",
      "  warnings.warn('SymbolDatabase.GetPrototype() is deprecated. Please '\n",
      "  0%|          | 415/9223372036854775807 [00:08<49810068401992:45:52, 51.44it/s]\n"
     ]
    },
    {
     "name": "stdout",
     "output_type": "stream",
     "text": [
      "415\n",
      "20240911_074529_mppose.gif done\n",
      "20240911_074529_mppose.npy done\n"
     ]
    }
   ],
   "source": [
    "from tqdm import tqdm\n",
    "\n",
    "# Set the path to the video file\n",
    "video_path = f'20240911_074529.mp4'\n",
    "\n",
    "# Read the video file\n",
    "frames = imageio.get_reader(video_path)\n",
    "\n",
    "face_results = []\n",
    "motions = []\n",
    "\n",
    "# Process each frame in the video\n",
    "for frame in tqdm(frames):\n",
    "    # Convert frame from RGB to BGR color space\n",
    "    frame_bgr = cv2.cvtColor(np.array(frame), cv2.COLOR_RGB2BGR)\n",
    "    \n",
    "    # Extract facial landmarks from the frame\n",
    "    face_result = lmk_extractor(frame_bgr)\n",
    "    assert face_result is not None, \"Cannot detect a face in the frame.\"\n",
    "    \n",
    "    # Add width and height information to the face_result\n",
    "    face_result['width'] = frame_bgr.shape[1]\n",
    "    face_result['height'] = frame_bgr.shape[0]\n",
    "    \n",
    "    # Store the face result\n",
    "    face_results.append(face_result)\n",
    "    \n",
    "    # Extract landmarks and convert to float32\n",
    "    lmks = face_result['lmks'].astype(np.float32)\n",
    "    \n",
    "    # Draw landmarks on the frame\n",
    "    motion = vis.draw_landmarks((frame_bgr.shape[1], frame_bgr.shape[0]), lmks, normed=True)\n",
    "    motions.append(motion)\n",
    "\n",
    "# Print the number of processed frames\n",
    "print(len(motions))\n",
    "\n",
    "# Save the landmark visualizations as a GIF\n",
    "save_path = video_path.replace('.mp4', '_mppose.gif')\n",
    "imageio.mimsave(save_path, motions, 'GIF', duration=0.2, loop=0)\n",
    "print(save_path, 'done')\n",
    "\n",
    "# Save the facial landmark results\n",
    "save_path = video_path.replace('.mp4', '_mppose.npy')\n",
    "np.save(save_path, face_results)\n",
    "print(save_path, 'done')"
   ]
  },
  {
   "cell_type": "markdown",
   "id": "c4f5a9b7-09e3-4d64-82b0-128239ee8d71",
   "metadata": {},
   "source": [
    "## Align"
   ]
  },
  {
   "cell_type": "code",
   "execution_count": null,
   "id": "32274bcb-9aa2-492b-914b-b87d73d5d8d5",
   "metadata": {},
   "outputs": [],
   "source": []
  }
 ],
 "metadata": {
  "kernelspec": {
   "display_name": "Python 3 (ipykernel)",
   "language": "python",
   "name": "python3"
  },
  "language_info": {
   "codemirror_mode": {
    "name": "ipython",
    "version": 3
   },
   "file_extension": ".py",
   "mimetype": "text/x-python",
   "name": "python",
   "nbconvert_exporter": "python",
   "pygments_lexer": "ipython3",
   "version": "3.12.5"
  }
 },
 "nbformat": 4,
 "nbformat_minor": 5
}
